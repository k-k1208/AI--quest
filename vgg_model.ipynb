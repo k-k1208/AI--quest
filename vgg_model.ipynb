{
  "nbformat": 4,
  "nbformat_minor": 0,
  "metadata": {
    "colab": {
      "name": "vgg_model.ipynb",
      "provenance": [],
      "collapsed_sections": [],
      "authorship_tag": "ABX9TyPaS2TNuyiByB2f0iZHDa7k",
      "include_colab_link": true
    },
    "kernelspec": {
      "name": "python3",
      "display_name": "Python 3"
    },
    "accelerator": "GPU",
    "widgets": {
      "application/vnd.jupyter.widget-state+json": {
        "4aa33e559e1a42dcbd207ca7a1cd2be5": {
          "model_module": "@jupyter-widgets/controls",
          "model_name": "HBoxModel",
          "state": {
            "_view_name": "HBoxView",
            "_dom_classes": [],
            "_model_name": "HBoxModel",
            "_view_module": "@jupyter-widgets/controls",
            "_model_module_version": "1.5.0",
            "_view_count": null,
            "_view_module_version": "1.5.0",
            "box_style": "",
            "layout": "IPY_MODEL_9bded72356694280b7720aeb05631217",
            "_model_module": "@jupyter-widgets/controls",
            "children": [
              "IPY_MODEL_4e5e24fde28841c5819d126608190d4d",
              "IPY_MODEL_2454a1209f9c4e6a81ed939c3cfe6f05"
            ]
          }
        },
        "9bded72356694280b7720aeb05631217": {
          "model_module": "@jupyter-widgets/base",
          "model_name": "LayoutModel",
          "state": {
            "_view_name": "LayoutView",
            "grid_template_rows": null,
            "right": null,
            "justify_content": null,
            "_view_module": "@jupyter-widgets/base",
            "overflow": null,
            "_model_module_version": "1.2.0",
            "_view_count": null,
            "flex_flow": null,
            "width": null,
            "min_width": null,
            "border": null,
            "align_items": null,
            "bottom": null,
            "_model_module": "@jupyter-widgets/base",
            "top": null,
            "grid_column": null,
            "overflow_y": null,
            "overflow_x": null,
            "grid_auto_flow": null,
            "grid_area": null,
            "grid_template_columns": null,
            "flex": null,
            "_model_name": "LayoutModel",
            "justify_items": null,
            "grid_row": null,
            "max_height": null,
            "align_content": null,
            "visibility": null,
            "align_self": null,
            "height": null,
            "min_height": null,
            "padding": null,
            "grid_auto_rows": null,
            "grid_gap": null,
            "max_width": null,
            "order": null,
            "_view_module_version": "1.2.0",
            "grid_template_areas": null,
            "object_position": null,
            "object_fit": null,
            "grid_auto_columns": null,
            "margin": null,
            "display": null,
            "left": null
          }
        },
        "4e5e24fde28841c5819d126608190d4d": {
          "model_module": "@jupyter-widgets/controls",
          "model_name": "FloatProgressModel",
          "state": {
            "_view_name": "ProgressView",
            "style": "IPY_MODEL_fc8bb676cc144f9788ed014fc7c9f52f",
            "_dom_classes": [],
            "description": "100%",
            "_model_name": "FloatProgressModel",
            "bar_style": "success",
            "max": 553433881,
            "_view_module": "@jupyter-widgets/controls",
            "_model_module_version": "1.5.0",
            "value": 553433881,
            "_view_count": null,
            "_view_module_version": "1.5.0",
            "orientation": "horizontal",
            "min": 0,
            "description_tooltip": null,
            "_model_module": "@jupyter-widgets/controls",
            "layout": "IPY_MODEL_c18608ad60a0415d96d229ea8ad7f548"
          }
        },
        "2454a1209f9c4e6a81ed939c3cfe6f05": {
          "model_module": "@jupyter-widgets/controls",
          "model_name": "HTMLModel",
          "state": {
            "_view_name": "HTMLView",
            "style": "IPY_MODEL_cf090d145f3044358e3ad66797f19599",
            "_dom_classes": [],
            "description": "",
            "_model_name": "HTMLModel",
            "placeholder": "​",
            "_view_module": "@jupyter-widgets/controls",
            "_model_module_version": "1.5.0",
            "value": " 528M/528M [00:58&lt;00:00, 9.49MB/s]",
            "_view_count": null,
            "_view_module_version": "1.5.0",
            "description_tooltip": null,
            "_model_module": "@jupyter-widgets/controls",
            "layout": "IPY_MODEL_bb69117379c84bcd923cee9c096b68dd"
          }
        },
        "fc8bb676cc144f9788ed014fc7c9f52f": {
          "model_module": "@jupyter-widgets/controls",
          "model_name": "ProgressStyleModel",
          "state": {
            "_view_name": "StyleView",
            "_model_name": "ProgressStyleModel",
            "description_width": "initial",
            "_view_module": "@jupyter-widgets/base",
            "_model_module_version": "1.5.0",
            "_view_count": null,
            "_view_module_version": "1.2.0",
            "bar_color": null,
            "_model_module": "@jupyter-widgets/controls"
          }
        },
        "c18608ad60a0415d96d229ea8ad7f548": {
          "model_module": "@jupyter-widgets/base",
          "model_name": "LayoutModel",
          "state": {
            "_view_name": "LayoutView",
            "grid_template_rows": null,
            "right": null,
            "justify_content": null,
            "_view_module": "@jupyter-widgets/base",
            "overflow": null,
            "_model_module_version": "1.2.0",
            "_view_count": null,
            "flex_flow": null,
            "width": null,
            "min_width": null,
            "border": null,
            "align_items": null,
            "bottom": null,
            "_model_module": "@jupyter-widgets/base",
            "top": null,
            "grid_column": null,
            "overflow_y": null,
            "overflow_x": null,
            "grid_auto_flow": null,
            "grid_area": null,
            "grid_template_columns": null,
            "flex": null,
            "_model_name": "LayoutModel",
            "justify_items": null,
            "grid_row": null,
            "max_height": null,
            "align_content": null,
            "visibility": null,
            "align_self": null,
            "height": null,
            "min_height": null,
            "padding": null,
            "grid_auto_rows": null,
            "grid_gap": null,
            "max_width": null,
            "order": null,
            "_view_module_version": "1.2.0",
            "grid_template_areas": null,
            "object_position": null,
            "object_fit": null,
            "grid_auto_columns": null,
            "margin": null,
            "display": null,
            "left": null
          }
        },
        "cf090d145f3044358e3ad66797f19599": {
          "model_module": "@jupyter-widgets/controls",
          "model_name": "DescriptionStyleModel",
          "state": {
            "_view_name": "StyleView",
            "_model_name": "DescriptionStyleModel",
            "description_width": "",
            "_view_module": "@jupyter-widgets/base",
            "_model_module_version": "1.5.0",
            "_view_count": null,
            "_view_module_version": "1.2.0",
            "_model_module": "@jupyter-widgets/controls"
          }
        },
        "bb69117379c84bcd923cee9c096b68dd": {
          "model_module": "@jupyter-widgets/base",
          "model_name": "LayoutModel",
          "state": {
            "_view_name": "LayoutView",
            "grid_template_rows": null,
            "right": null,
            "justify_content": null,
            "_view_module": "@jupyter-widgets/base",
            "overflow": null,
            "_model_module_version": "1.2.0",
            "_view_count": null,
            "flex_flow": null,
            "width": null,
            "min_width": null,
            "border": null,
            "align_items": null,
            "bottom": null,
            "_model_module": "@jupyter-widgets/base",
            "top": null,
            "grid_column": null,
            "overflow_y": null,
            "overflow_x": null,
            "grid_auto_flow": null,
            "grid_area": null,
            "grid_template_columns": null,
            "flex": null,
            "_model_name": "LayoutModel",
            "justify_items": null,
            "grid_row": null,
            "max_height": null,
            "align_content": null,
            "visibility": null,
            "align_self": null,
            "height": null,
            "min_height": null,
            "padding": null,
            "grid_auto_rows": null,
            "grid_gap": null,
            "max_width": null,
            "order": null,
            "_view_module_version": "1.2.0",
            "grid_template_areas": null,
            "object_position": null,
            "object_fit": null,
            "grid_auto_columns": null,
            "margin": null,
            "display": null,
            "left": null
          }
        }
      }
    }
  },
  "cells": [
    {
      "cell_type": "markdown",
      "metadata": {
        "id": "view-in-github",
        "colab_type": "text"
      },
      "source": [
        "<a href=\"https://colab.research.google.com/github/k-k1208/AI--quest/blob/master/vgg_model.ipynb\" target=\"_parent\"><img src=\"https://colab.research.google.com/assets/colab-badge.svg\" alt=\"Open In Colab\"/></a>"
      ]
    },
    {
      "cell_type": "markdown",
      "metadata": {
        "id": "T-gC9EYBG3SH"
      },
      "source": [
        "# class, functionの一覧\n",
        "1. ImageTransform(class):画像の前処理クラス\n",
        "  - 適応データ：train, val,test\n",
        "\n",
        "2. make_datapath_list(function):画像へのファイルパスをリスト型変数に格納する関数\n",
        "  - 適応データ：train, val , test\n",
        "\n",
        "3. Dataset(HymenopteraDataset)(class):1,2のクラスを使って作成\n",
        "  - 適応データ：train, val, test\n",
        "\n",
        "    - Dataloader:datasetsからバッチごとに取り出すことを目的に使われる\n",
        "      - 適応データ：train,valのみ\n",
        "\n",
        "4. train_model(function):モデルを学習させる関数\n",
        "  - 適応データ：train, val\n",
        "\n",
        "5. test_model(function):学習モデルを使って予測する関数\n",
        "  - 適応データ：test\n",
        "  - memo：できれば、submitできる形式をreturnできるのが理想\n"
      ]
    },
    {
      "cell_type": "code",
      "metadata": {
        "id": "OhXvHlXevwJc",
        "outputId": "d800176e-808c-4d18-fe6f-a6d30750aab3",
        "colab": {
          "base_uri": "https://localhost:8080/",
          "height": 34
        }
      },
      "source": [
        "#google driveをgoogle colabにマウントする\n",
        "from google.colab import drive \n",
        "drive.mount('/content/drive')"
      ],
      "execution_count": 1,
      "outputs": [
        {
          "output_type": "stream",
          "text": [
            "Mounted at /content/drive\n"
          ],
          "name": "stdout"
        }
      ]
    },
    {
      "cell_type": "code",
      "metadata": {
        "id": "3A3MEluRv_dO",
        "outputId": "fd4647d6-54cb-4d2d-e8e9-0f60aaae68fd",
        "colab": {
          "base_uri": "https://localhost:8080/",
          "height": 68
        }
      },
      "source": [
        "%cd \"/content/drive/My Drive/AI_QUEST\"\n",
        "%ls"
      ],
      "execution_count": 92,
      "outputs": [
        {
          "output_type": "stream",
          "text": [
            "/content/drive/My Drive/AI_QUEST\n",
            " model_k.ipynb      \u001b[0m\u001b[01;34m'signate_AI Quest アセスメント'\u001b[0m/   \u001b[01;34mtrain\u001b[0m/\n",
            " sample_submit.tsv   \u001b[01;34mtest\u001b[0m/\n"
          ],
          "name": "stdout"
        }
      ]
    },
    {
      "cell_type": "code",
      "metadata": {
        "id": "rjRGOovYokvT"
      },
      "source": [
        "# パッケージのimport\n",
        "import glob\n",
        "import os.path as osp\n",
        "import random\n",
        "import numpy as np\n",
        "import json\n",
        "from PIL import Image\n",
        "from tqdm import tqdm\n",
        "import matplotlib.pyplot as plt\n",
        "%matplotlib inline\n",
        "\n",
        "import torch\n",
        "import torch.nn as nn\n",
        "import torch.optim as optim\n",
        "import torch.utils.data as data\n",
        "import torchvision\n",
        "from torchvision import models, transforms"
      ],
      "execution_count": 2,
      "outputs": []
    },
    {
      "cell_type": "code",
      "metadata": {
        "id": "LDqxBHyIslLT"
      },
      "source": [
        "# 乱数のシードを設定\n",
        "torch.manual_seed(1234)\n",
        "np.random.seed(1234)\n",
        "random.seed(1234)"
      ],
      "execution_count": 93,
      "outputs": []
    },
    {
      "cell_type": "code",
      "metadata": {
        "id": "mYzAjpuYsm25"
      },
      "source": [
        "# 入力画像の前処理をするクラス\n",
        "# 訓練時と推論時で処理が異なる\n",
        "\n",
        "\n",
        "class ImageTransform():\n",
        "    \"\"\"\n",
        "    画像の前処理クラス。訓練時、検証時で異なる動作をする。\n",
        "    画像のサイズをリサイズし、色を標準化する。\n",
        "    訓練時はRandomResizedCropとRandomHorizontalFlipでデータオーギュメンテーションする。\n",
        "\n",
        "\n",
        "    Attributes\n",
        "    ----------\n",
        "    resize : int\n",
        "        リサイズ先の画像の大きさ。\n",
        "    mean : (R, G, B)\n",
        "        各色チャネルの平均値。\n",
        "    std : (R, G, B)\n",
        "        各色チャネルの標準偏差。\n",
        "    \"\"\"\n",
        "\n",
        "    def __init__(self, resize, mean, std):\n",
        "        self.data_transform = {\n",
        "            'train': transforms.Compose([\n",
        "                transforms.RandomResizedCrop(\n",
        "                    resize, scale=(0.5, 1.0)),  # データオーギュメンテーション\n",
        "                transforms.RandomHorizontalFlip(),  # データオーギュメンテーション\n",
        "                transforms.ToTensor(),  # テンソルに変換\n",
        "                transforms.Normalize(mean, std)  # 標準化\n",
        "            ]),\n",
        "            'val': transforms.Compose([\n",
        "                transforms.Resize(resize),  # リサイズ\n",
        "                transforms.CenterCrop(resize),  # 画像中央をresize×resizeで切り取り\n",
        "                transforms.ToTensor(),  # テンソルに変換\n",
        "                transforms.Normalize(mean, std)  # 標準化\n",
        "            ]),\n",
        "            'test': transforms.Compose([\n",
        "                transforms.Resize(resize),  # リサイズ\n",
        "                transforms.CenterCrop(resize),  # 画像中央をresize×resizeで切り取り\n",
        "                transforms.ToTensor(),  # テンソルに変換\n",
        "                transforms.Normalize(mean, std)  # 標準化\n",
        "            ])\n",
        "        }\n",
        "\n",
        "    def __call__(self, img, phase='train'):\n",
        "        \"\"\"\n",
        "        Parameters\n",
        "        ----------\n",
        "        phase : 'train' or 'val'\n",
        "            前処理のモードを指定。\n",
        "        \"\"\"\n",
        "        return self.data_transform[phase](img)\n"
      ],
      "execution_count": 106,
      "outputs": []
    },
    {
      "cell_type": "code",
      "metadata": {
        "id": "PbV5RhrttaNL",
        "outputId": "9ebcd3e8-c27d-4f7f-af5e-7f16efa64cb6",
        "colab": {
          "base_uri": "https://localhost:8080/",
          "height": 1000
        }
      },
      "source": [
        "def make_datapath_list(phase=\"train\"):\n",
        "    \"\"\"\n",
        "    データのパスを格納したリストを作成する。\n",
        "\n",
        "    Parameters\n",
        "    ----------\n",
        "    phase : 'train' or 'val'\n",
        "        訓練データか検証データかを指定する\n",
        "\n",
        "    Returns\n",
        "    -------\n",
        "    path_list : list\n",
        "        データへのパスを格納したリスト\n",
        "    \"\"\"\n",
        "\n",
        "    rootpath = \"/content/drive/My Drive/AI_QUEST/\"\n",
        "    if phase == \"train\":\n",
        "      target_path = osp.join(rootpath+phase+'/**/*.jpeg')\n",
        "    elif phase == \"test\":\n",
        "      target_path = osp.join(rootpath+phase+'/**.jpeg')\n",
        "    else:\n",
        "      print(\"ファイルパス読み取り時の予期せぬエラー\")\n",
        "    print(target_path)\n",
        "    path_list = []  # ここに格納する\n",
        "\n",
        "    # globを利用してサブディレクトリまでファイルパスを取得する\n",
        "    for path in glob.glob(target_path):\n",
        "        path_list.append(path)\n",
        "\n",
        "    return path_list\n",
        "\n",
        "\n",
        "# 実行\n",
        "trainval_list = make_datapath_list(phase=\"train\")\n",
        "test_list = make_datapath_list(phase=\"test\")\n",
        "\n",
        "test_list"
      ],
      "execution_count": 95,
      "outputs": [
        {
          "output_type": "stream",
          "text": [
            "/content/drive/My Drive/AI_QUEST/train/**/*.jpeg\n",
            "/content/drive/My Drive/AI_QUEST/test/**.jpeg\n"
          ],
          "name": "stdout"
        },
        {
          "output_type": "execute_result",
          "data": {
            "text/plain": [
              "['/content/drive/My Drive/AI_QUEST/test/120.jpeg',\n",
              " '/content/drive/My Drive/AI_QUEST/test/197.jpeg',\n",
              " '/content/drive/My Drive/AI_QUEST/test/137.jpeg',\n",
              " '/content/drive/My Drive/AI_QUEST/test/053.jpeg',\n",
              " '/content/drive/My Drive/AI_QUEST/test/051.jpeg',\n",
              " '/content/drive/My Drive/AI_QUEST/test/173.jpeg',\n",
              " '/content/drive/My Drive/AI_QUEST/test/062.jpeg',\n",
              " '/content/drive/My Drive/AI_QUEST/test/059.jpeg',\n",
              " '/content/drive/My Drive/AI_QUEST/test/177.jpeg',\n",
              " '/content/drive/My Drive/AI_QUEST/test/128.jpeg',\n",
              " '/content/drive/My Drive/AI_QUEST/test/203.jpeg',\n",
              " '/content/drive/My Drive/AI_QUEST/test/187.jpeg',\n",
              " '/content/drive/My Drive/AI_QUEST/test/029.jpeg',\n",
              " '/content/drive/My Drive/AI_QUEST/test/151.jpeg',\n",
              " '/content/drive/My Drive/AI_QUEST/test/006.jpeg',\n",
              " '/content/drive/My Drive/AI_QUEST/test/113.jpeg',\n",
              " '/content/drive/My Drive/AI_QUEST/test/068.jpeg',\n",
              " '/content/drive/My Drive/AI_QUEST/test/150.jpeg',\n",
              " '/content/drive/My Drive/AI_QUEST/test/202.jpeg',\n",
              " '/content/drive/My Drive/AI_QUEST/test/211.jpeg',\n",
              " '/content/drive/My Drive/AI_QUEST/test/191.jpeg',\n",
              " '/content/drive/My Drive/AI_QUEST/test/025.jpeg',\n",
              " '/content/drive/My Drive/AI_QUEST/test/176.jpeg',\n",
              " '/content/drive/My Drive/AI_QUEST/test/033.jpeg',\n",
              " '/content/drive/My Drive/AI_QUEST/test/139.jpeg',\n",
              " '/content/drive/My Drive/AI_QUEST/test/109.jpeg',\n",
              " '/content/drive/My Drive/AI_QUEST/test/103.jpeg',\n",
              " '/content/drive/My Drive/AI_QUEST/test/037.jpeg',\n",
              " '/content/drive/My Drive/AI_QUEST/test/091.jpeg',\n",
              " '/content/drive/My Drive/AI_QUEST/test/045.jpeg',\n",
              " '/content/drive/My Drive/AI_QUEST/test/024.jpeg',\n",
              " '/content/drive/My Drive/AI_QUEST/test/146.jpeg',\n",
              " '/content/drive/My Drive/AI_QUEST/test/088.jpeg',\n",
              " '/content/drive/My Drive/AI_QUEST/test/110.jpeg',\n",
              " '/content/drive/My Drive/AI_QUEST/test/101.jpeg',\n",
              " '/content/drive/My Drive/AI_QUEST/test/072.jpeg',\n",
              " '/content/drive/My Drive/AI_QUEST/test/081.jpeg',\n",
              " '/content/drive/My Drive/AI_QUEST/test/013.jpeg',\n",
              " '/content/drive/My Drive/AI_QUEST/test/094.jpeg',\n",
              " '/content/drive/My Drive/AI_QUEST/test/115.jpeg',\n",
              " '/content/drive/My Drive/AI_QUEST/test/212.jpeg',\n",
              " '/content/drive/My Drive/AI_QUEST/test/189.jpeg',\n",
              " '/content/drive/My Drive/AI_QUEST/test/038.jpeg',\n",
              " '/content/drive/My Drive/AI_QUEST/test/004.jpeg',\n",
              " '/content/drive/My Drive/AI_QUEST/test/055.jpeg',\n",
              " '/content/drive/My Drive/AI_QUEST/test/061.jpeg',\n",
              " '/content/drive/My Drive/AI_QUEST/test/162.jpeg',\n",
              " '/content/drive/My Drive/AI_QUEST/test/052.jpeg',\n",
              " '/content/drive/My Drive/AI_QUEST/test/122.jpeg',\n",
              " '/content/drive/My Drive/AI_QUEST/test/111.jpeg',\n",
              " '/content/drive/My Drive/AI_QUEST/test/102.jpeg',\n",
              " '/content/drive/My Drive/AI_QUEST/test/116.jpeg',\n",
              " '/content/drive/My Drive/AI_QUEST/test/209.jpeg',\n",
              " '/content/drive/My Drive/AI_QUEST/test/083.jpeg',\n",
              " '/content/drive/My Drive/AI_QUEST/test/049.jpeg',\n",
              " '/content/drive/My Drive/AI_QUEST/test/074.jpeg',\n",
              " '/content/drive/My Drive/AI_QUEST/test/080.jpeg',\n",
              " '/content/drive/My Drive/AI_QUEST/test/160.jpeg',\n",
              " '/content/drive/My Drive/AI_QUEST/test/188.jpeg',\n",
              " '/content/drive/My Drive/AI_QUEST/test/067.jpeg',\n",
              " '/content/drive/My Drive/AI_QUEST/test/071.jpeg',\n",
              " '/content/drive/My Drive/AI_QUEST/test/123.jpeg',\n",
              " '/content/drive/My Drive/AI_QUEST/test/100.jpeg',\n",
              " '/content/drive/My Drive/AI_QUEST/test/148.jpeg',\n",
              " '/content/drive/My Drive/AI_QUEST/test/205.jpeg',\n",
              " '/content/drive/My Drive/AI_QUEST/test/075.jpeg',\n",
              " '/content/drive/My Drive/AI_QUEST/test/035.jpeg',\n",
              " '/content/drive/My Drive/AI_QUEST/test/011.jpeg',\n",
              " '/content/drive/My Drive/AI_QUEST/test/182.jpeg',\n",
              " '/content/drive/My Drive/AI_QUEST/test/093.jpeg',\n",
              " '/content/drive/My Drive/AI_QUEST/test/019.jpeg',\n",
              " '/content/drive/My Drive/AI_QUEST/test/012.jpeg',\n",
              " '/content/drive/My Drive/AI_QUEST/test/106.jpeg',\n",
              " '/content/drive/My Drive/AI_QUEST/test/200.jpeg',\n",
              " '/content/drive/My Drive/AI_QUEST/test/028.jpeg',\n",
              " '/content/drive/My Drive/AI_QUEST/test/207.jpeg',\n",
              " '/content/drive/My Drive/AI_QUEST/test/079.jpeg',\n",
              " '/content/drive/My Drive/AI_QUEST/test/170.jpeg',\n",
              " '/content/drive/My Drive/AI_QUEST/test/125.jpeg',\n",
              " '/content/drive/My Drive/AI_QUEST/test/031.jpeg',\n",
              " '/content/drive/My Drive/AI_QUEST/test/086.jpeg',\n",
              " '/content/drive/My Drive/AI_QUEST/test/172.jpeg',\n",
              " '/content/drive/My Drive/AI_QUEST/test/147.jpeg',\n",
              " '/content/drive/My Drive/AI_QUEST/test/159.jpeg',\n",
              " '/content/drive/My Drive/AI_QUEST/test/141.jpeg',\n",
              " '/content/drive/My Drive/AI_QUEST/test/149.jpeg',\n",
              " '/content/drive/My Drive/AI_QUEST/test/048.jpeg',\n",
              " '/content/drive/My Drive/AI_QUEST/test/007.jpeg',\n",
              " '/content/drive/My Drive/AI_QUEST/test/155.jpeg',\n",
              " '/content/drive/My Drive/AI_QUEST/test/140.jpeg',\n",
              " '/content/drive/My Drive/AI_QUEST/test/184.jpeg',\n",
              " '/content/drive/My Drive/AI_QUEST/test/082.jpeg',\n",
              " '/content/drive/My Drive/AI_QUEST/test/117.jpeg',\n",
              " '/content/drive/My Drive/AI_QUEST/test/017.jpeg',\n",
              " '/content/drive/My Drive/AI_QUEST/test/008.jpeg',\n",
              " '/content/drive/My Drive/AI_QUEST/test/036.jpeg',\n",
              " '/content/drive/My Drive/AI_QUEST/test/186.jpeg',\n",
              " '/content/drive/My Drive/AI_QUEST/test/152.jpeg',\n",
              " '/content/drive/My Drive/AI_QUEST/test/168.jpeg',\n",
              " '/content/drive/My Drive/AI_QUEST/test/126.jpeg',\n",
              " '/content/drive/My Drive/AI_QUEST/test/210.jpeg',\n",
              " '/content/drive/My Drive/AI_QUEST/test/154.jpeg',\n",
              " '/content/drive/My Drive/AI_QUEST/test/131.jpeg',\n",
              " '/content/drive/My Drive/AI_QUEST/test/167.jpeg',\n",
              " '/content/drive/My Drive/AI_QUEST/test/124.jpeg',\n",
              " '/content/drive/My Drive/AI_QUEST/test/089.jpeg',\n",
              " '/content/drive/My Drive/AI_QUEST/test/144.jpeg',\n",
              " '/content/drive/My Drive/AI_QUEST/test/087.jpeg',\n",
              " '/content/drive/My Drive/AI_QUEST/test/108.jpeg',\n",
              " '/content/drive/My Drive/AI_QUEST/test/084.jpeg',\n",
              " '/content/drive/My Drive/AI_QUEST/test/178.jpeg',\n",
              " '/content/drive/My Drive/AI_QUEST/test/047.jpeg',\n",
              " '/content/drive/My Drive/AI_QUEST/test/179.jpeg',\n",
              " '/content/drive/My Drive/AI_QUEST/test/132.jpeg',\n",
              " '/content/drive/My Drive/AI_QUEST/test/171.jpeg',\n",
              " '/content/drive/My Drive/AI_QUEST/test/157.jpeg',\n",
              " '/content/drive/My Drive/AI_QUEST/test/142.jpeg',\n",
              " '/content/drive/My Drive/AI_QUEST/test/153.jpeg',\n",
              " '/content/drive/My Drive/AI_QUEST/test/046.jpeg',\n",
              " '/content/drive/My Drive/AI_QUEST/test/016.jpeg',\n",
              " '/content/drive/My Drive/AI_QUEST/test/021.jpeg',\n",
              " '/content/drive/My Drive/AI_QUEST/test/130.jpeg',\n",
              " '/content/drive/My Drive/AI_QUEST/test/027.jpeg',\n",
              " '/content/drive/My Drive/AI_QUEST/test/043.jpeg',\n",
              " '/content/drive/My Drive/AI_QUEST/test/183.jpeg',\n",
              " '/content/drive/My Drive/AI_QUEST/test/077.jpeg',\n",
              " '/content/drive/My Drive/AI_QUEST/test/020.jpeg',\n",
              " '/content/drive/My Drive/AI_QUEST/test/073.jpeg',\n",
              " '/content/drive/My Drive/AI_QUEST/test/097.jpeg',\n",
              " '/content/drive/My Drive/AI_QUEST/test/174.jpeg',\n",
              " '/content/drive/My Drive/AI_QUEST/test/107.jpeg',\n",
              " '/content/drive/My Drive/AI_QUEST/test/085.jpeg',\n",
              " '/content/drive/My Drive/AI_QUEST/test/121.jpeg',\n",
              " '/content/drive/My Drive/AI_QUEST/test/119.jpeg',\n",
              " '/content/drive/My Drive/AI_QUEST/test/026.jpeg',\n",
              " '/content/drive/My Drive/AI_QUEST/test/064.jpeg',\n",
              " '/content/drive/My Drive/AI_QUEST/test/009.jpeg',\n",
              " '/content/drive/My Drive/AI_QUEST/test/090.jpeg',\n",
              " '/content/drive/My Drive/AI_QUEST/test/044.jpeg',\n",
              " '/content/drive/My Drive/AI_QUEST/test/105.jpeg',\n",
              " '/content/drive/My Drive/AI_QUEST/test/040.jpeg',\n",
              " '/content/drive/My Drive/AI_QUEST/test/143.jpeg',\n",
              " '/content/drive/My Drive/AI_QUEST/test/156.jpeg',\n",
              " '/content/drive/My Drive/AI_QUEST/test/175.jpeg',\n",
              " '/content/drive/My Drive/AI_QUEST/test/092.jpeg',\n",
              " '/content/drive/My Drive/AI_QUEST/test/196.jpeg',\n",
              " '/content/drive/My Drive/AI_QUEST/test/206.jpeg',\n",
              " '/content/drive/My Drive/AI_QUEST/test/014.jpeg',\n",
              " '/content/drive/My Drive/AI_QUEST/test/030.jpeg',\n",
              " '/content/drive/My Drive/AI_QUEST/test/133.jpeg',\n",
              " '/content/drive/My Drive/AI_QUEST/test/192.jpeg',\n",
              " '/content/drive/My Drive/AI_QUEST/test/127.jpeg',\n",
              " '/content/drive/My Drive/AI_QUEST/test/054.jpeg',\n",
              " '/content/drive/My Drive/AI_QUEST/test/158.jpeg',\n",
              " '/content/drive/My Drive/AI_QUEST/test/057.jpeg',\n",
              " '/content/drive/My Drive/AI_QUEST/test/034.jpeg',\n",
              " '/content/drive/My Drive/AI_QUEST/test/208.jpeg',\n",
              " '/content/drive/My Drive/AI_QUEST/test/015.jpeg',\n",
              " '/content/drive/My Drive/AI_QUEST/test/066.jpeg',\n",
              " '/content/drive/My Drive/AI_QUEST/test/065.jpeg',\n",
              " '/content/drive/My Drive/AI_QUEST/test/166.jpeg',\n",
              " '/content/drive/My Drive/AI_QUEST/test/000.jpeg',\n",
              " '/content/drive/My Drive/AI_QUEST/test/134.jpeg',\n",
              " '/content/drive/My Drive/AI_QUEST/test/005.jpeg',\n",
              " '/content/drive/My Drive/AI_QUEST/test/078.jpeg',\n",
              " '/content/drive/My Drive/AI_QUEST/test/112.jpeg',\n",
              " '/content/drive/My Drive/AI_QUEST/test/041.jpeg',\n",
              " '/content/drive/My Drive/AI_QUEST/test/198.jpeg',\n",
              " '/content/drive/My Drive/AI_QUEST/test/164.jpeg',\n",
              " '/content/drive/My Drive/AI_QUEST/test/193.jpeg',\n",
              " '/content/drive/My Drive/AI_QUEST/test/114.jpeg',\n",
              " '/content/drive/My Drive/AI_QUEST/test/063.jpeg',\n",
              " '/content/drive/My Drive/AI_QUEST/test/002.jpeg',\n",
              " '/content/drive/My Drive/AI_QUEST/test/195.jpeg',\n",
              " '/content/drive/My Drive/AI_QUEST/test/161.jpeg',\n",
              " '/content/drive/My Drive/AI_QUEST/test/050.jpeg',\n",
              " '/content/drive/My Drive/AI_QUEST/test/056.jpeg',\n",
              " '/content/drive/My Drive/AI_QUEST/test/096.jpeg',\n",
              " '/content/drive/My Drive/AI_QUEST/test/180.jpeg',\n",
              " '/content/drive/My Drive/AI_QUEST/test/104.jpeg',\n",
              " '/content/drive/My Drive/AI_QUEST/test/190.jpeg',\n",
              " '/content/drive/My Drive/AI_QUEST/test/129.jpeg',\n",
              " '/content/drive/My Drive/AI_QUEST/test/023.jpeg',\n",
              " '/content/drive/My Drive/AI_QUEST/test/136.jpeg',\n",
              " '/content/drive/My Drive/AI_QUEST/test/058.jpeg',\n",
              " '/content/drive/My Drive/AI_QUEST/test/185.jpeg',\n",
              " '/content/drive/My Drive/AI_QUEST/test/098.jpeg',\n",
              " '/content/drive/My Drive/AI_QUEST/test/099.jpeg',\n",
              " '/content/drive/My Drive/AI_QUEST/test/032.jpeg',\n",
              " '/content/drive/My Drive/AI_QUEST/test/204.jpeg',\n",
              " '/content/drive/My Drive/AI_QUEST/test/039.jpeg',\n",
              " '/content/drive/My Drive/AI_QUEST/test/001.jpeg',\n",
              " '/content/drive/My Drive/AI_QUEST/test/018.jpeg',\n",
              " '/content/drive/My Drive/AI_QUEST/test/138.jpeg',\n",
              " '/content/drive/My Drive/AI_QUEST/test/199.jpeg',\n",
              " '/content/drive/My Drive/AI_QUEST/test/145.jpeg',\n",
              " '/content/drive/My Drive/AI_QUEST/test/042.jpeg',\n",
              " '/content/drive/My Drive/AI_QUEST/test/181.jpeg',\n",
              " '/content/drive/My Drive/AI_QUEST/test/022.jpeg',\n",
              " '/content/drive/My Drive/AI_QUEST/test/003.jpeg',\n",
              " '/content/drive/My Drive/AI_QUEST/test/169.jpeg',\n",
              " '/content/drive/My Drive/AI_QUEST/test/060.jpeg',\n",
              " '/content/drive/My Drive/AI_QUEST/test/076.jpeg',\n",
              " '/content/drive/My Drive/AI_QUEST/test/135.jpeg',\n",
              " '/content/drive/My Drive/AI_QUEST/test/201.jpeg',\n",
              " '/content/drive/My Drive/AI_QUEST/test/069.jpeg',\n",
              " '/content/drive/My Drive/AI_QUEST/test/118.jpeg',\n",
              " '/content/drive/My Drive/AI_QUEST/test/163.jpeg',\n",
              " '/content/drive/My Drive/AI_QUEST/test/070.jpeg',\n",
              " '/content/drive/My Drive/AI_QUEST/test/165.jpeg',\n",
              " '/content/drive/My Drive/AI_QUEST/test/194.jpeg',\n",
              " '/content/drive/My Drive/AI_QUEST/test/095.jpeg',\n",
              " '/content/drive/My Drive/AI_QUEST/test/010.jpeg']"
            ]
          },
          "metadata": {
            "tags": []
          },
          "execution_count": 95
        }
      ]
    },
    {
      "cell_type": "code",
      "metadata": {
        "id": "pWVlRVqCsrg2"
      },
      "source": [
        "class HymenopteraDataset(data.Dataset):\n",
        "    \"\"\"\n",
        "    アリとハチの画像のDatasetクラス。PyTorchのDatasetクラスを継承。\n",
        "\n",
        "    Attributes\n",
        "    ----------\n",
        "    file_list : リスト\n",
        "        画像のパスを格納したリスト\n",
        "    transform : object\n",
        "        前処理クラスのインスタンス\n",
        "    phase : 'train' or 'test'\n",
        "        train: trainとval\n",
        "        test : public leader boardの予測用\n",
        "    \"\"\"\n",
        "\n",
        "    def __init__(self, file_list, transform=None, phase='train'):\n",
        "        self.file_list = file_list  # ファイルパスのリスト\n",
        "        self.transform = transform  # 前処理クラスのインスタンス\n",
        "        self.phase = phase  # train or valの指定\n",
        "\n",
        "    def __len__(self):\n",
        "        '''画像の枚数を返す'''\n",
        "        return len(self.file_list)\n",
        "\n",
        "    def __getitem__(self, index):\n",
        "        '''\n",
        "        前処理をした画像のTensor形式のデータとラベルを取得\n",
        "        '''\n",
        "\n",
        "        # index番目の画像をロード\n",
        "        img_path = self.file_list[index]\n",
        "        img = Image.open(img_path)  # [高さ][幅][色RGB]\n",
        "\n",
        "        # 画像の前処理を実施\n",
        "        img_transformed = self.transform(\n",
        "            img, self.phase)  # torch.Size([3, 224, 224])\n",
        "        if self.phase == 'train':\n",
        "          # 画像のラベルをファイル名から抜き出す\n",
        "          label = img_path[39:40]      \n",
        "\n",
        "          # ラベルを数値に変更する\n",
        "          if label == \"b\" or  label == \"h\" or label == \"p\":\n",
        "              label = 0\n",
        "          elif label == \"r\":\n",
        "              label = 1\n",
        "          else:\n",
        "              label = 'ラベルerrorやで'\n",
        "\n",
        "          return img_transformed, label\n",
        "        \n",
        "        elif self.phase == 'test':\n",
        "          return img_transformed\n",
        "        \n",
        "        else:\n",
        "          print('Dataset作成時の予期せぬエラー')\n"
      ],
      "execution_count": 107,
      "outputs": []
    },
    {
      "cell_type": "code",
      "metadata": {
        "id": "WVHQMR_03Ue4"
      },
      "source": [
        "trainval_dataset = HymenopteraDataset(\n",
        "    file_list=trainval_list, transform=ImageTransform(size, mean, std), phase='train')\n",
        "\n",
        "test_dataset = HymenopteraDataset(\n",
        "    file_list=test_list, transform=ImageTransform(size, mean, std), phase='test')"
      ],
      "execution_count": 108,
      "outputs": []
    },
    {
      "cell_type": "code",
      "metadata": {
        "id": "WZ8dwq382kAH",
        "outputId": "9c8263c8-4dff-4466-ac76-11ca1000ffd3",
        "colab": {
          "base_uri": "https://localhost:8080/",
          "height": 51
        }
      },
      "source": [
        "# アリとハチの画像へのファイルパスのリストを作成する\n",
        "trainval_list = make_datapath_list(phase=\"train\")\n",
        "test_list = make_datapath_list(phase=\"test\")\n",
        "\n",
        "# Datasetを作成する\n",
        "size = 224\n",
        "mean = (0.485, 0.456, 0.406)\n",
        "std = (0.229, 0.224, 0.225)\n",
        "trainval_dataset = HymenopteraDataset(\n",
        "    file_list=trainval_list, transform=ImageTransform(size, mean, std), phase='train')\n",
        "test_dataset = HymenopteraDataset(\n",
        "    file_list=test_list, transform=ImageTransform(size, mean, std), phase='test')\n",
        "\n",
        "\n",
        "n_samples = len(trainval_dataset) # n_samples is 290\n",
        "train_size = int(len(trainval_dataset) * 0.8)  #232\n",
        "val_size = n_samples - train_size #58\n",
        "\n",
        "# shuffleしてから分割してくれる.\n",
        "train_dataset, val_dataset = torch.utils.data.random_split(trainval_dataset, [train_size, val_size])\n",
        "\n",
        "# DataLoaderを作成する\n",
        "batch_size = 32\n",
        "\n",
        "train_dataloader = torch.utils.data.DataLoader(\n",
        "    train_dataset, batch_size=batch_size, shuffle=True)\n",
        "\n",
        "test_dataloader = torch.utils.data.DataLoader(\n",
        "    test_dataset, batch_size=1, shuffle=False)\n",
        "\n",
        "\n",
        "# 辞書オブジェクトにまとめる\n",
        "dataloaders_dict = {\"train\": train_dataloader, \"val\": val_dataloader}"
      ],
      "execution_count": 136,
      "outputs": [
        {
          "output_type": "stream",
          "text": [
            "/content/drive/My Drive/AI_QUEST/train/**/*.jpeg\n",
            "/content/drive/My Drive/AI_QUEST/test/**.jpeg\n"
          ],
          "name": "stdout"
        }
      ]
    },
    {
      "cell_type": "code",
      "metadata": {
        "id": "PrT1E-dPtzls",
        "outputId": "68c35362-750d-43e4-98af-e81afabb64e1",
        "colab": {
          "base_uri": "https://localhost:8080/",
          "height": 120,
          "referenced_widgets": [
            "4aa33e559e1a42dcbd207ca7a1cd2be5",
            "9bded72356694280b7720aeb05631217",
            "4e5e24fde28841c5819d126608190d4d",
            "2454a1209f9c4e6a81ed939c3cfe6f05",
            "fc8bb676cc144f9788ed014fc7c9f52f",
            "c18608ad60a0415d96d229ea8ad7f548",
            "cf090d145f3044358e3ad66797f19599",
            "bb69117379c84bcd923cee9c096b68dd"
          ]
        }
      },
      "source": [
        "# 学習済みのVGG-16モデルをロード\n",
        "\n",
        "# VGG-16モデルのインスタンスを生成\n",
        "use_pretrained = True  # 学習済みのパラメータを使用\n",
        "net = models.vgg16(pretrained=use_pretrained)\n",
        "\n",
        "# VGG16の最後の出力層の出力ユニットをアリとハチの2つに付け替える\n",
        "net.classifier[6] = nn.Linear(in_features=4096, out_features=2)\n",
        "\n",
        "# 訓練モードに設定\n",
        "net.train()\n",
        "\n",
        "print('ネットワーク設定完了：学習済みの重みをロードし、訓練モードに設定しました')"
      ],
      "execution_count": 8,
      "outputs": [
        {
          "output_type": "stream",
          "text": [
            "Downloading: \"https://download.pytorch.org/models/vgg16-397923af.pth\" to /root/.cache/torch/hub/checkpoints/vgg16-397923af.pth\n"
          ],
          "name": "stderr"
        },
        {
          "output_type": "display_data",
          "data": {
            "application/vnd.jupyter.widget-view+json": {
              "model_id": "4aa33e559e1a42dcbd207ca7a1cd2be5",
              "version_minor": 0,
              "version_major": 2
            },
            "text/plain": [
              "HBox(children=(FloatProgress(value=0.0, max=553433881.0), HTML(value='')))"
            ]
          },
          "metadata": {
            "tags": []
          }
        },
        {
          "output_type": "stream",
          "text": [
            "\n",
            "ネットワーク設定完了：学習済みの重みをロードし、訓練モードに設定しました\n"
          ],
          "name": "stdout"
        }
      ]
    },
    {
      "cell_type": "code",
      "metadata": {
        "id": "xYGXUqz4tCL0",
        "outputId": "d3e8eb0e-5c89-4bfe-aeac-33a00642a03b",
        "colab": {
          "base_uri": "https://localhost:8080/",
          "height": 561
        }
      },
      "source": [
        "# 1.損失関数の設定\n",
        "criterion = nn.CrossEntropyLoss()\n",
        "\n",
        "# 2.最適化手法を設定\n",
        "# ファインチューニングで学習させるパラメータを、変数params_to_updateの1～3に格納する\n",
        "\n",
        "params_to_update_1 = []\n",
        "params_to_update_2 = []\n",
        "params_to_update_3 = []\n",
        "\n",
        "# 学習させる層のパラメータ名を指定\n",
        "update_param_names_1 = [\"features\"]\n",
        "update_param_names_2 = [\"classifier.0.weight\",\n",
        "                        \"classifier.0.bias\", \"classifier.3.weight\", \"classifier.3.bias\"]\n",
        "update_param_names_3 = [\"classifier.6.weight\", \"classifier.6.bias\"]\n",
        "\n",
        "# パラメータごとに各リストに格納する\n",
        "for name, param in net.named_parameters():\n",
        "    if update_param_names_1[0] in name:\n",
        "        param.requires_grad = True\n",
        "        params_to_update_1.append(param)\n",
        "        print(\"params_to_update_1に格納：\", name)\n",
        "\n",
        "    elif name in update_param_names_2:\n",
        "        param.requires_grad = True\n",
        "        params_to_update_2.append(param)\n",
        "        print(\"params_to_update_2に格納：\", name)\n",
        "\n",
        "    elif name in update_param_names_3:\n",
        "        param.requires_grad = True\n",
        "        params_to_update_3.append(param)\n",
        "        print(\"params_to_update_3に格納：\", name)\n",
        "\n",
        "    else:\n",
        "        param.requires_grad = False\n",
        "        print(\"勾配計算なし。学習しない：\", name)\n"
      ],
      "execution_count": 9,
      "outputs": [
        {
          "output_type": "stream",
          "text": [
            "params_to_update_1に格納： features.0.weight\n",
            "params_to_update_1に格納： features.0.bias\n",
            "params_to_update_1に格納： features.2.weight\n",
            "params_to_update_1に格納： features.2.bias\n",
            "params_to_update_1に格納： features.5.weight\n",
            "params_to_update_1に格納： features.5.bias\n",
            "params_to_update_1に格納： features.7.weight\n",
            "params_to_update_1に格納： features.7.bias\n",
            "params_to_update_1に格納： features.10.weight\n",
            "params_to_update_1に格納： features.10.bias\n",
            "params_to_update_1に格納： features.12.weight\n",
            "params_to_update_1に格納： features.12.bias\n",
            "params_to_update_1に格納： features.14.weight\n",
            "params_to_update_1に格納： features.14.bias\n",
            "params_to_update_1に格納： features.17.weight\n",
            "params_to_update_1に格納： features.17.bias\n",
            "params_to_update_1に格納： features.19.weight\n",
            "params_to_update_1に格納： features.19.bias\n",
            "params_to_update_1に格納： features.21.weight\n",
            "params_to_update_1に格納： features.21.bias\n",
            "params_to_update_1に格納： features.24.weight\n",
            "params_to_update_1に格納： features.24.bias\n",
            "params_to_update_1に格納： features.26.weight\n",
            "params_to_update_1に格納： features.26.bias\n",
            "params_to_update_1に格納： features.28.weight\n",
            "params_to_update_1に格納： features.28.bias\n",
            "params_to_update_2に格納： classifier.0.weight\n",
            "params_to_update_2に格納： classifier.0.bias\n",
            "params_to_update_2に格納： classifier.3.weight\n",
            "params_to_update_2に格納： classifier.3.bias\n",
            "params_to_update_3に格納： classifier.6.weight\n",
            "params_to_update_3に格納： classifier.6.bias\n"
          ],
          "name": "stdout"
        }
      ]
    },
    {
      "cell_type": "code",
      "metadata": {
        "id": "YHcLVVa9tF-T"
      },
      "source": [
        "#最適化手法の設定\n",
        "optimizer = optim.SGD([\n",
        "    {'params': params_to_update_1, 'lr': 1e-4},\n",
        "    {'params': params_to_update_2, 'lr': 5e-4},\n",
        "    {'params': params_to_update_3, 'lr': 1e-3}\n",
        "], momentum=0.9)\n"
      ],
      "execution_count": 10,
      "outputs": []
    },
    {
      "cell_type": "code",
      "metadata": {
        "id": "iza5EO0ptFt8"
      },
      "source": [
        "# モデルを学習させる関数を作成\n",
        "\n",
        "\n",
        "def train_model(net, dataloaders_dict, criterion, optimizer, num_epochs):\n",
        "\n",
        "    # 初期設定\n",
        "    # GPUが使えるかを確認\n",
        "    device = torch.device(\"cuda:0\" if torch.cuda.is_available() else \"cpu\")\n",
        "    print(\"使用デバイス：\", device)\n",
        "\n",
        "    # ネットワークをGPUへ\n",
        "    net.to(device)\n",
        "\n",
        "    # ネットワークがある程度固定であれば、高速化させる\n",
        "    torch.backends.cudnn.benchmark = True\n",
        "\n",
        "    # epochのループ\n",
        "    for epoch in range(num_epochs):\n",
        "        print('Epoch {}/{}'.format(epoch+1, num_epochs))\n",
        "        print('-------------')\n",
        "\n",
        "        # epochごとの訓練と検証のループ\n",
        "        for phase in ['train', 'val']:\n",
        "            if phase == 'train':\n",
        "                net.train()  # モデルを訓練モードに\n",
        "            else:\n",
        "                net.eval()   # モデルを検証モードに\n",
        "\n",
        "            epoch_loss = 0.0  # epochの損失和\n",
        "            epoch_corrects = 0  # epochの正解数\n",
        "\n",
        "            # 未学習時の検証性能を確かめるため、epoch=0の訓練は省略\n",
        "            if (epoch == 0) and (phase == 'train'):\n",
        "                continue\n",
        "\n",
        "            # データローダーからミニバッチを取り出すループ\n",
        "            for inputs, labels in tqdm(dataloaders_dict[phase]):\n",
        "\n",
        "                # GPUが使えるならGPUにデータを送る\n",
        "                inputs = inputs.to(device)\n",
        "                labels = labels.to(device)\n",
        "\n",
        "                # optimizerを初期化\n",
        "                optimizer.zero_grad()\n",
        "\n",
        "                # 順伝搬（forward）計算\n",
        "                with torch.set_grad_enabled(phase == 'train'):\n",
        "                    outputs = net(inputs)\n",
        "                    loss = criterion(outputs, labels)  # 損失を計算\n",
        "                    _, preds = torch.max(outputs, 1)  # ラベルを予測\n",
        "\n",
        "                    # 訓練時はバックプロパゲーション\n",
        "                    if phase == 'train':\n",
        "                        loss.backward()\n",
        "                        optimizer.step()\n",
        "\n",
        "                    # 結果の計算\n",
        "                    epoch_loss += loss.item() * inputs.size(0)  # lossの合計を更新\n",
        "                    # 正解数の合計を更新\n",
        "                    epoch_corrects += torch.sum(preds == labels.data)\n",
        "\n",
        "            # epochごとのlossと正解率を表示\n",
        "            epoch_loss = epoch_loss / len(dataloaders_dict[phase].dataset)\n",
        "            epoch_acc = epoch_corrects.double(\n",
        "            ) / len(dataloaders_dict[phase].dataset)\n",
        "\n",
        "            print('{} Loss: {:.4f} Acc: {:.4f}'.format(\n",
        "                phase, epoch_loss, epoch_acc))\n"
      ],
      "execution_count": 15,
      "outputs": []
    },
    {
      "cell_type": "code",
      "metadata": {
        "id": "FAIecdIOtFf6",
        "outputId": "d645a3f8-411c-48a2-ab9b-d39d51374fae",
        "colab": {
          "base_uri": "https://localhost:8080/",
          "height": 1000
        }
      },
      "source": [
        "num_epochs=4\n",
        "train_model(net, dataloaders_dict, criterion, optimizer, num_epochs=num_epochs)"
      ],
      "execution_count": 91,
      "outputs": [
        {
          "output_type": "stream",
          "text": [
            "\n",
            "  0%|          | 0/2 [00:00<?, ?it/s]\u001b[A"
          ],
          "name": "stderr"
        },
        {
          "output_type": "stream",
          "text": [
            "使用デバイス： cuda:0\n",
            "Epoch 1/7\n",
            "-------------\n"
          ],
          "name": "stdout"
        },
        {
          "output_type": "stream",
          "text": [
            "\n",
            " 50%|█████     | 1/2 [00:07<00:07,  7.06s/it]\u001b[A\n",
            "100%|██████████| 2/2 [00:12<00:00,  6.37s/it]\n",
            "\n",
            "  0%|          | 0/8 [00:00<?, ?it/s]\u001b[A"
          ],
          "name": "stderr"
        },
        {
          "output_type": "stream",
          "text": [
            "val Loss: 0.6523 Acc: 0.6379\n",
            "Epoch 2/7\n",
            "-------------\n"
          ],
          "name": "stdout"
        },
        {
          "output_type": "stream",
          "text": [
            "\n",
            " 12%|█▎        | 1/8 [00:07<00:53,  7.64s/it]\u001b[A\n",
            " 25%|██▌       | 2/8 [00:15<00:45,  7.64s/it]\u001b[A\n",
            " 38%|███▊      | 3/8 [00:22<00:38,  7.61s/it]\u001b[A\n",
            " 50%|█████     | 4/8 [00:30<00:30,  7.60s/it]\u001b[A\n",
            " 62%|██████▎   | 5/8 [00:38<00:22,  7.62s/it]\u001b[A\n",
            " 75%|███████▌  | 6/8 [00:45<00:15,  7.63s/it]\u001b[A\n",
            " 88%|████████▊ | 7/8 [00:53<00:07,  7.61s/it]\u001b[A\n",
            "100%|██████████| 8/8 [00:55<00:00,  6.91s/it]\n",
            "\n",
            "  0%|          | 0/2 [00:00<?, ?it/s]\u001b[A"
          ],
          "name": "stderr"
        },
        {
          "output_type": "stream",
          "text": [
            "train Loss: 0.6612 Acc: 0.6207\n"
          ],
          "name": "stdout"
        },
        {
          "output_type": "stream",
          "text": [
            "\n",
            " 50%|█████     | 1/2 [00:07<00:07,  7.06s/it]\u001b[A\n",
            "100%|██████████| 2/2 [00:12<00:00,  6.41s/it]\n",
            "\n",
            "  0%|          | 0/8 [00:00<?, ?it/s]\u001b[A"
          ],
          "name": "stderr"
        },
        {
          "output_type": "stream",
          "text": [
            "val Loss: 0.7013 Acc: 0.6034\n",
            "Epoch 3/7\n",
            "-------------\n"
          ],
          "name": "stdout"
        },
        {
          "output_type": "stream",
          "text": [
            "\n",
            " 12%|█▎        | 1/8 [00:07<00:53,  7.69s/it]\u001b[A\n",
            " 25%|██▌       | 2/8 [00:15<00:46,  7.67s/it]\u001b[A\n",
            " 38%|███▊      | 3/8 [00:23<00:38,  7.68s/it]\u001b[A\n",
            " 50%|█████     | 4/8 [00:30<00:30,  7.67s/it]\u001b[A\n",
            " 62%|██████▎   | 5/8 [00:38<00:22,  7.66s/it]\u001b[A\n",
            " 75%|███████▌  | 6/8 [00:45<00:15,  7.65s/it]\u001b[A\n",
            " 88%|████████▊ | 7/8 [00:53<00:07,  7.67s/it]\u001b[A\n",
            "100%|██████████| 8/8 [00:55<00:00,  6.96s/it]\n",
            "\n",
            "  0%|          | 0/2 [00:00<?, ?it/s]\u001b[A"
          ],
          "name": "stderr"
        },
        {
          "output_type": "stream",
          "text": [
            "train Loss: 0.5674 Acc: 0.6767\n"
          ],
          "name": "stdout"
        },
        {
          "output_type": "stream",
          "text": [
            "\n",
            " 50%|█████     | 1/2 [00:07<00:07,  7.01s/it]\u001b[A\n",
            "100%|██████████| 2/2 [00:12<00:00,  6.36s/it]\n",
            "\n",
            "  0%|          | 0/8 [00:00<?, ?it/s]\u001b[A"
          ],
          "name": "stderr"
        },
        {
          "output_type": "stream",
          "text": [
            "val Loss: 0.5899 Acc: 0.6552\n",
            "Epoch 4/7\n",
            "-------------\n"
          ],
          "name": "stdout"
        },
        {
          "output_type": "stream",
          "text": [
            "\n",
            " 12%|█▎        | 1/8 [00:07<00:53,  7.60s/it]\u001b[A\n",
            " 25%|██▌       | 2/8 [00:15<00:45,  7.59s/it]\u001b[A\n",
            " 38%|███▊      | 3/8 [00:22<00:37,  7.56s/it]\u001b[A\n",
            " 50%|█████     | 4/8 [00:30<00:30,  7.55s/it]\u001b[A\n",
            " 62%|██████▎   | 5/8 [00:37<00:22,  7.55s/it]\u001b[A\n",
            " 75%|███████▌  | 6/8 [00:45<00:15,  7.54s/it]\u001b[A\n",
            " 88%|████████▊ | 7/8 [00:52<00:07,  7.53s/it]\u001b[A\n",
            "100%|██████████| 8/8 [00:54<00:00,  6.85s/it]\n",
            "\n",
            "  0%|          | 0/2 [00:00<?, ?it/s]\u001b[A"
          ],
          "name": "stderr"
        },
        {
          "output_type": "stream",
          "text": [
            "train Loss: 0.5322 Acc: 0.7284\n"
          ],
          "name": "stdout"
        },
        {
          "output_type": "stream",
          "text": [
            "\n",
            " 50%|█████     | 1/2 [00:06<00:06,  6.87s/it]\u001b[A\n",
            "100%|██████████| 2/2 [00:12<00:00,  6.26s/it]\n",
            "\n",
            "  0%|          | 0/8 [00:00<?, ?it/s]\u001b[A"
          ],
          "name": "stderr"
        },
        {
          "output_type": "stream",
          "text": [
            "val Loss: 0.4907 Acc: 0.7414\n",
            "Epoch 5/7\n",
            "-------------\n"
          ],
          "name": "stdout"
        },
        {
          "output_type": "stream",
          "text": [
            "\n",
            " 12%|█▎        | 1/8 [00:07<00:53,  7.64s/it]\u001b[A\n",
            " 25%|██▌       | 2/8 [00:15<00:45,  7.61s/it]\u001b[A\n",
            " 38%|███▊      | 3/8 [00:22<00:37,  7.59s/it]\u001b[A\n",
            " 50%|█████     | 4/8 [00:30<00:30,  7.58s/it]\u001b[A\n",
            " 62%|██████▎   | 5/8 [00:37<00:22,  7.57s/it]\u001b[A\n",
            " 75%|███████▌  | 6/8 [00:45<00:15,  7.57s/it]\u001b[A\n",
            " 88%|████████▊ | 7/8 [00:52<00:07,  7.56s/it]\u001b[A\n",
            "100%|██████████| 8/8 [00:54<00:00,  6.87s/it]\n",
            "\n",
            "  0%|          | 0/2 [00:00<?, ?it/s]\u001b[A"
          ],
          "name": "stderr"
        },
        {
          "output_type": "stream",
          "text": [
            "train Loss: 0.4969 Acc: 0.7629\n"
          ],
          "name": "stdout"
        },
        {
          "output_type": "stream",
          "text": [
            "\n",
            " 50%|█████     | 1/2 [00:06<00:06,  6.89s/it]\u001b[A\n",
            "100%|██████████| 2/2 [00:12<00:00,  6.31s/it]\n",
            "\n",
            "  0%|          | 0/8 [00:00<?, ?it/s]\u001b[A"
          ],
          "name": "stderr"
        },
        {
          "output_type": "stream",
          "text": [
            "val Loss: 0.6444 Acc: 0.6379\n",
            "Epoch 6/7\n",
            "-------------\n"
          ],
          "name": "stdout"
        },
        {
          "output_type": "stream",
          "text": [
            "\n",
            " 12%|█▎        | 1/8 [00:07<00:52,  7.52s/it]\u001b[A\n",
            " 25%|██▌       | 2/8 [00:15<00:45,  7.52s/it]\u001b[A\n",
            " 38%|███▊      | 3/8 [00:22<00:37,  7.52s/it]\u001b[A\n",
            " 50%|█████     | 4/8 [00:30<00:30,  7.53s/it]\u001b[A\n",
            " 62%|██████▎   | 5/8 [00:37<00:22,  7.53s/it]\u001b[A\n",
            " 75%|███████▌  | 6/8 [00:45<00:15,  7.56s/it]\u001b[A\n",
            " 88%|████████▊ | 7/8 [00:52<00:07,  7.58s/it]\u001b[A\n",
            "100%|██████████| 8/8 [00:54<00:00,  6.86s/it]\n",
            "\n",
            "  0%|          | 0/2 [00:00<?, ?it/s]\u001b[A"
          ],
          "name": "stderr"
        },
        {
          "output_type": "stream",
          "text": [
            "train Loss: 0.4750 Acc: 0.7845\n"
          ],
          "name": "stdout"
        },
        {
          "output_type": "stream",
          "text": [
            "\n",
            " 50%|█████     | 1/2 [00:06<00:06,  6.98s/it]\u001b[A\n",
            "100%|██████████| 2/2 [00:12<00:00,  6.32s/it]\n",
            "\n",
            "  0%|          | 0/8 [00:00<?, ?it/s]\u001b[A"
          ],
          "name": "stderr"
        },
        {
          "output_type": "stream",
          "text": [
            "val Loss: 0.5372 Acc: 0.7241\n",
            "Epoch 7/7\n",
            "-------------\n"
          ],
          "name": "stdout"
        },
        {
          "output_type": "stream",
          "text": [
            "\n",
            " 12%|█▎        | 1/8 [00:07<00:53,  7.68s/it]\u001b[A\n",
            " 25%|██▌       | 2/8 [00:15<00:46,  7.67s/it]\u001b[A\n",
            " 38%|███▊      | 3/8 [00:22<00:38,  7.67s/it]\u001b[A\n",
            " 50%|█████     | 4/8 [00:30<00:30,  7.64s/it]\u001b[A\n",
            " 62%|██████▎   | 5/8 [00:38<00:22,  7.62s/it]\u001b[A\n",
            " 75%|███████▌  | 6/8 [00:45<00:15,  7.63s/it]\u001b[A\n",
            " 88%|████████▊ | 7/8 [00:53<00:07,  7.62s/it]\u001b[A\n",
            "100%|██████████| 8/8 [00:55<00:00,  6.93s/it]\n",
            "\n",
            "  0%|          | 0/2 [00:00<?, ?it/s]\u001b[A"
          ],
          "name": "stderr"
        },
        {
          "output_type": "stream",
          "text": [
            "train Loss: 0.4401 Acc: 0.7802\n"
          ],
          "name": "stdout"
        },
        {
          "output_type": "stream",
          "text": [
            "\n",
            " 50%|█████     | 1/2 [00:06<00:06,  6.84s/it]\u001b[A\n",
            "100%|██████████| 2/2 [00:12<00:00,  6.26s/it]"
          ],
          "name": "stderr"
        },
        {
          "output_type": "stream",
          "text": [
            "val Loss: 0.5222 Acc: 0.7241\n"
          ],
          "name": "stdout"
        },
        {
          "output_type": "stream",
          "text": [
            "\n"
          ],
          "name": "stderr"
        }
      ]
    },
    {
      "cell_type": "code",
      "metadata": {
        "id": "nfyKi2_Et_hQ"
      },
      "source": [
        "net"
      ],
      "execution_count": null,
      "outputs": []
    },
    {
      "cell_type": "code",
      "metadata": {
        "id": "erMn82NjX7kH"
      },
      "source": [
        "# モデルをtestさせる関数を作成\n",
        "\n",
        "\n",
        "def test_model(net, datasets):\n",
        "    # 初期設定\n",
        "    # GPUが使えるかを確認\n",
        "    device = torch.device(\"cuda:0\" if torch.cuda.is_available() else \"cpu\")\n",
        "    print(\"使用デバイス：\", device)\n",
        "\n",
        "    # ネットワークをGPUへ\n",
        "    net.to(device)\n",
        "\n",
        "    net.eval()   # モデルを検証モードに\n",
        "    preds = []\n",
        "    labels = []\n",
        "    # データローダーからミニバッチを取り出すループ\n",
        "    for inputs in datasets:\n",
        "\n",
        "        # GPUが使えるならGPUにデータを送る\n",
        "        inputs = inputs.to(device)\n",
        "\n",
        "        # 順伝搬（forward）計算\n",
        "        # with torch.set_grad_enabled(phase == 'train'): # 学習時にのみ勾配の算出を有効にする設定です\n",
        "        outputs = net(inputs)\n",
        "        \n",
        "        _, pred = torch.max(outputs, 1)  # ラベルを予測\n",
        "        preds.append(pred)\n",
        "        for i in range(len(preds)):\n",
        "          label = preds[i][0].item()\n",
        "          labels.append(label)\n",
        "\n",
        "    return labels"
      ],
      "execution_count": 142,
      "outputs": []
    },
    {
      "cell_type": "code",
      "metadata": {
        "id": "YH0rGq5eX7Vi",
        "outputId": "d5bf6cee-b08d-4e31-81bc-2f1e74c083bc",
        "colab": {
          "base_uri": "https://localhost:8080/",
          "height": 34
        }
      },
      "source": [
        "preds = test_model(net, test_dataloader)"
      ],
      "execution_count": 146,
      "outputs": [
        {
          "output_type": "stream",
          "text": [
            "使用デバイス： cuda:0\n"
          ],
          "name": "stdout"
        }
      ]
    },
    {
      "cell_type": "code",
      "metadata": {
        "id": "VCkhfHRMjym-"
      },
      "source": [
        "labels = []\n",
        "file_names = []\n",
        "tsv_list = []\n",
        "for i in range(len(preds)):\n",
        "  label = preds[i][0].item()\n",
        "  labels.append(label)\n",
        "\n",
        "for i in range(len(test_list)):\n",
        "  file_name = test_list[i][38:]\n",
        "  file_names.append(file_name)\n",
        "\n",
        "for name, label in zip(file_names, labels):\n",
        "  tsv_list.append([name, label])\n",
        "\n",
        "tsv_list = sorted(tsv_list) #リストをimageファイル001から数字順にsort"
      ],
      "execution_count": 183,
      "outputs": []
    },
    {
      "cell_type": "code",
      "metadata": {
        "id": "ZBmNp15uuz1E"
      },
      "source": [
        "#提出ファイル(tsv形式)の作成\n",
        "import csv\n",
        "\n",
        "# 新規作成専用でファイルオープン: 引数mode='x' :ファイルが存在しない場合のみ書き込み（新規作成のみ）\n",
        "# 書き込み用でファイルオープン: 引数mode='w'\n",
        "with open('output2.tsv', 'x') as out_file:\n",
        "    tsv_writer = csv.writer(out_file, delimiter='\\t')\n",
        "    for row in tsv_list:\n",
        "      tsv_writer.writerow(row)\n"
      ],
      "execution_count": 184,
      "outputs": []
    },
    {
      "cell_type": "code",
      "metadata": {
        "id": "2uR9YZoUuU7o"
      },
      "source": [
        ""
      ],
      "execution_count": null,
      "outputs": []
    }
  ]
}